{
  "cells": [
    {
      "cell_type": "markdown",
      "metadata": {
        "id": "1pCTdOHonv5f"
      },
      "source": [
        "# Módulo 2\n",
        "\n",
        "## 2.3 Instruções e Expressões\n",
        "\n",
        "### Q1\n",
        "\n",
        "Faça um programa que armazene o valor de 20 reais de salário por hora de um trabalhador, e o número de 40 horas trabalhadas na semana. Com essas informações, calcule e imprima:\n",
        "- Salário semanal bruto\n",
        "- Valor descontado por semana INSS (10% do bruto)\n",
        "- Valor descontado por semana pelo sindicato (5% do bruto)\n",
        "- Salário semanal líquido (Bruto - Descontos)"
      ]
    },
    {
      "cell_type": "code",
      "execution_count": 20,
      "metadata": {
        "id": "hVbX0I97nj6M"
      },
      "outputs": [
        {
          "name": "stdout",
          "output_type": "stream",
          "text": [
            "O salário semanal bruto é 800\n",
            "O desconto do INSS é de 80.0\n",
            "O desconto do sindicato é de 40.0\n",
            "O desconto total é de 120.0\n",
            "Sendo o salario semanal liquido 680.0\n"
          ]
        }
      ],
      "source": [
        "salario_hora = 20\n",
        "horas_por_semana = 40\n",
        "\n",
        "salario_semanal = salario_hora * horas_por_semana\n",
        "print (\"O salário semanal bruto é\", salario_semanal)\n",
        "desconto_INSS = salario_semanal * 0.1\n",
        "print (\"O desconto do INSS é de\", desconto_INSS)\n",
        "desconto_sindicato = salario_semanal * 0.05\n",
        "print (\"O desconto do sindicato é de\", desconto_sindicato)\n",
        "print(\"O desconto total é de\", desconto_INSS + desconto_sindicato)\n",
        "print(\"Sendo o salario semanal liquido\", salario_semanal - desconto_INSS - desconto_sindicato)"
      ]
    },
    {
      "cell_type": "markdown",
      "metadata": {
        "id": "pIxKX9J2oGZ1"
      },
      "source": [
        "### Q2\n",
        "\n",
        "Altere o programa anterior para a partir dos valores de horas trabalhadas por semana e salário por hora, calcular **em somente duas instruções**:\n",
        "- Salário semanal bruto\n",
        "- Salário semanal líquido com todos os descontos. Para a segunda instrução, realize todos os cálculos aritméticos em uma expressão composta.\n"
      ]
    },
    {
      "cell_type": "code",
      "execution_count": 21,
      "metadata": {
        "id": "pAHw9Xf9oGoi"
      },
      "outputs": [
        {
          "name": "stdout",
          "output_type": "stream",
          "text": [
            "O salário semanal bruto é 800\n",
            "O salário semanal liquido é de 680.0\n"
          ]
        }
      ],
      "source": [
        "salario_hora = 20\n",
        "horas_por_semana = 40\n",
        "\n",
        "salario_bruto = salario_hora * horas_por_semana\n",
        "print (\"O salário semanal bruto é\", salario_bruto)\n",
        "print(\"O salário semanal liquido é de\", salario_bruto - (salario_bruto * 0.15))"
      ]
    },
    {
      "cell_type": "markdown",
      "metadata": {
        "id": "m8tlHRuWpBOB"
      },
      "source": [
        "### Q3\n",
        "\n",
        "Você está desenvolvendo um software de conversão de moeda e precisa calcular o valor equivalente em yuan chinês a partir de uma quantia em real. A taxa de câmbio é de 0.69 BRL (real) para 1 CNY (yuan). Escreva um programa que define em uma variável uma quantia em reais (BRL) e calcula o valor equivalente em yuan (CNY). Imprima o resultado."
      ]
    },
    {
      "cell_type": "code",
      "execution_count": 22,
      "metadata": {
        "id": "2bPw7uF6oeL9"
      },
      "outputs": [
        {
          "name": "stdout",
          "output_type": "stream",
          "text": [
            "14.492753623188406\n"
          ]
        }
      ],
      "source": [
        "real = 0.69\n",
        "#yuan = 1\n",
        "dezyuan = 10 / real\n",
        "print(dezyuan)"
      ]
    },
    {
      "cell_type": "markdown",
      "metadata": {
        "id": "-Na3ltDCp74A"
      },
      "source": [
        "### Q4\n",
        "\n",
        "Você é um treinador de corrida e deseja calcular a velocidade média que um atleta precisa manter para completar a Maratona Internacional de São Silvestre, que tem uma distância total de 42.195 km. A fórmula para calcular a velocidade média ($v\\_media$) é dada por $v\\_media = \\frac{distancia}{tempo}$ . Escreva um programa em Python para calcular a velocidade média necessária para completar a maratona em 3 horas.\n",
        "\n",
        "**Calcule e imprima o resultado em metros/segundo**, ou seja, converta a distância de quilômetros para metros ($metro = \\frac{km}{1000}$) e a velocidade de horas para segundos $(segundo = \\frac{hora}{3600})$."
      ]
    },
    {
      "cell_type": "code",
      "execution_count": 25,
      "metadata": {
        "id": "Bn6l8kcSrE4L"
      },
      "outputs": [
        {
          "name": "stdout",
          "output_type": "stream",
          "text": [
            "Velocidade média é de 14065.0\n",
            "Em metros seria 42195000 metros\n",
            "Tempo em segundos é de 10800 segundos\n"
          ]
        }
      ],
      "source": [
        "distancia = 42195\n",
        "tempo = 3\n",
        "velocidademedia = distancia / tempo\n",
        "print (\"Velocidade média é de\", velocidademedia)\n",
        "print(\"Em metros seria\", distancia * 1000, \"metros\")\n",
        "print(\"Tempo em segundos é de\", tempo * 3600, \"segundos\")"
      ]
    }
  ],
  "metadata": {
    "colab": {
      "provenance": []
    },
    "kernelspec": {
      "display_name": "Python 3",
      "name": "python3"
    },
    "language_info": {
      "codemirror_mode": {
        "name": "ipython",
        "version": 3
      },
      "file_extension": ".py",
      "mimetype": "text/x-python",
      "name": "python",
      "nbconvert_exporter": "python",
      "pygments_lexer": "ipython3",
      "version": "3.12.4"
    }
  },
  "nbformat": 4,
  "nbformat_minor": 0
}
